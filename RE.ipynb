{
  "nbformat": 4,
  "nbformat_minor": 0,
  "metadata": {
    "colab": {
      "provenance": []
    },
    "kernelspec": {
      "name": "python3",
      "display_name": "Python 3"
    },
    "language_info": {
      "name": "python"
    }
  },
  "cells": [
    {
      "cell_type": "code",
      "metadata": {
        "id": "Q6bl1b0EifVG",
        "cellView": "form"
      },
      "source": [
        "# ============================= FORM ============================= #\n",
        "# @markdown <font size=5>← Create user</font>\n",
        "username = \"ddr91\" #@param {type:\"string\"}\n",
        "password = \"123456qwerty\" #@param {type:\"string\"}\n",
        "# ================================================================ #\n",
        "\n",
        "import os\n",
        "\n",
        "print(\"Creating user and setting it up...\")\n",
        "\n",
        "# Creation of user\n",
        "os.system(f\"useradd -m {username}\")\n",
        "\n",
        "# Add user to sudo group\n",
        "os.system(f\"adduser {username} sudo\")\n",
        "    \n",
        "# Set password of user to 'root'\n",
        "os.system(f\"echo '{username}:{password}' | sudo chpasswd\")\n",
        "\n",
        "# Change default shell from sh to bash\n",
        "os.system(\"sed -i 's/\\/bin\\/sh/\\/bin\\/bash/g' /etc/passwd\")\n",
        "\n",
        "print(\"User created and configured.\")\n",
        "#============================= FORM ============================= #\n",
        "#@markdown <font size=5>← [Start] Remote Desktop</font>\n",
        "#@markdown <ol>\n",
        "#@markdown \t<li>Click <a href=\"http://remotedesktop.google.com/headless\" target=\"_blank\">HERE</a> (opens in new tab) and set up a computer first.</li>\n",
        "#@markdown \t<li>After you have done setting up a computer, get the Debian Linux command / authcode and paste it into the field below.</li>\n",
        "#@markdown \t<li>Run the cell and wait for it to finish.</li>\n",
        "#@markdown \t<li>Now, go to <a href=\"http://remotedesktop.google.com/access\" target=\"_blank\">HERE</a> (opens in new tab) and you should see a machine pops up in there.</li>\n",
        "#@markdown \t<li>Click on that machine to remote it and enter the pin.</li>\n",
        "#@markdown </ol> \n",
        "CRP = \"DISPLAY= /opt/google/chrome-remote-desktop/start-host --code=\\\"4/0AVHEtk7VY3A65QTcnpzBH36Gi9tjkBotWH0edxdLIY0ibPxpjuPYZeM5ZKgQpnEn-pClew\\\" --redirect-url=\\\"https://remotedesktop.google.com/_/oauthredirect\\\" --name=$(hostname)\" #@param {type:\"string\"}\n",
        "\n",
        "#@markdown Enter a PIN that is equal to or more than 6 digits\n",
        "Pin = 111111 #@param {type: \"integer\"}\n",
        "\n",
        "#@markdown > It takes about 4 to 5 minutes for the installation process.\n",
        "#================================================================ #\n",
        "\n",
        "import os\n",
        "import subprocess\n",
        "\n",
        "\n",
        "class CRD:\n",
        "    def __init__(self):\n",
        "        os.system(\"sudo apt update\")\n",
        "        self.finish()\n",
        "\n",
        "\n",
        "    @staticmethod\n",
        "    def finish():\n",
        "        print(\"Finalizing...\")\n",
        "        os.system(f\"adduser {username} chrome-remote-desktop\")\n",
        "        command = f\"{CRP} --pin={Pin}\"\n",
        "        os.system(f\"su - {username} -c '{command}'\")\n",
        "        print(\"Finished Succesfully!\")\n",
        "\n",
        "\n",
        "try:\n",
        "    if username:\n",
        "        if CRP == \"\":\n",
        "            print(\"Please enter the authcode from the Chrome Remote Desktop site!\")\n",
        "        elif len(str(Pin)) < 6:\n",
        "            print(\"Enter a PIN that is equal to or more than 6 digits!\")\n",
        "        else:\n",
        "            CRD()\n",
        "except NameError as e:\n",
        "    print(\"Username variable not found! Create a user first!\")"
      ],
      "execution_count": null,
      "outputs": []
    }
  ]
}