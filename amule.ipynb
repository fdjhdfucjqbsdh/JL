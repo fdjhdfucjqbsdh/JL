{
  "nbformat": 4,
  "nbformat_minor": 0,
  "metadata": {
    "colab": {
      "provenance": [],
      "toc_visible": true
    },
    "kernelspec": {
      "name": "python3",
      "display_name": "Python 3"
    },
    "language_info": {
      "name": "python"
    }
  },
  "cells": [
    {
      "cell_type": "code",
      "source": [
        "from IPython.display import clear_output\n",
        "!sudo apt install tmux jq net-tools  \n",
        "!wget https://github.com/javsubs91/javsubs91/releases/download/P2P/amule-daemon\n",
        "!wget https://github.com/javsubs91/javsubs91/releases/download/P2P/amule-common_2.3.2-2_all.deb\n",
        "!wget https://github.com/javsubs91/javsubs91/releases/download/P2P/amule-daemon_2.3.2-2_amd64.deb\n",
        "!wget https://github.com/javsubs91/javsubs91/releases/download/P2P/amule-utils_2.3.2-2_amd64.deb\n",
        "!wget https://github.com/javsubs91/javsubs91/releases/download/P2P/amule.conf\n",
        "!wget https://github.com/javsubs91/javsubs91/releases/download/P2P/libboost-system1.65.1_1.65.1+dfsg-0ubuntu5_amd64.deb\n",
        "!wget https://github.com/javsubs91/javsubs91/releases/download/P2P/libcrypto++6_5.6.4-8_amd64.deb\n",
        "!wget https://github.com/javsubs91/javsubs91/releases/download/P2P/libreadline7_7.0-5_amd64.deb\n",
        "!wget https://github.com/javsubs91/javsubs91/releases/download/P2P/libupnp6_1.6.24-4_amd64.deb\n",
        "!wget https://github.com/javsubs91/javsubs91/releases/download/P2P/libwxbase3.0-0v5_3.0.4+dfsg-8_amd64.deb\n",
        "!sudo dpkg -i /libcrypto++6_5.6.4-8_amd64.deb\n",
        "!sudo dpkg -i /libwxbase3.0-0v5_3.0.4+dfsg-8_amd64.deb\n",
        "!sudo dpkg -i /libboost-system1.65.1_1.65.1+dfsg-0ubuntu5_amd64.deb\n",
        "!sudo dpkg -i /libupnp6_1.6.24-4_amd64.deb\n",
        "!sudo dpkg -i /libreadline7_7.0-5_amd64.deb\n",
        "!sudo dpkg -i /amule-utils_2.3.2-2_amd64.deb\n",
        "!sudo dpkg -i /amule-common_2.3.2-2_all.deb\n",
        "!sudo dpkg -i /amule-daemon_2.3.2-2_amd64.deb\n",
        "!cp /amule-daemon /etc/default/\n",
        "clear_output()\n",
        "# ============================= FORM ============================= #\n",
        "# @markdown <font size=5>INSTALLING AMULE & Create Amule user</font>\n",
        "username = \"ddr91\" #@param {type:\"string\"}\n",
        "password = \"123456qwerty\" #@param {type:\"string\"}\n",
        "# ================================================================ #\n",
        "\n",
        "import os\n",
        "\n",
        "print(\"Creating user and setting it up...\")\n",
        "\n",
        "# Creation of user\n",
        "os.system(f\"useradd -m {username}\")\n",
        "\n",
        "# Add user to sudo group\n",
        "os.system(f\"adduser {username} sudo\")\n",
        "    \n",
        "# Set password of user to 'root'\n",
        "os.system(f\"echo '{username}:{password}' | sudo chpasswd\")\n",
        "\n",
        "# Change default shell from sh to bash\n",
        "os.system(\"sed -i 's/\\/bin\\/sh/\\/bin\\/bash/g' /etc/passwd\")\n",
        "\n",
        "print(\"User created and configured.\")\n",
        "!echo amuled | su ddr91\n",
        "!cp /amule.conf /home/ddr91/.aMule \n",
        "import os\n",
        "os.chdir(\"/usr/share/amule/webserver\")\n",
        "!sudo git clone https://github.com/MatteoRagni/AmuleWebUI-Reloaded.git\n",
        "import os\n",
        "os.chdir(\"/\")\n",
        "!service amule-daemon start"
      ],
      "metadata": {
        "cellView": "form",
        "id": "9oMzt3ckF1Vd"
      },
      "execution_count": null,
      "outputs": []
    }
  ]
}